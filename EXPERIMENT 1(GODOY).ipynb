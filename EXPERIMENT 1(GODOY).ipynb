{
 "cells": [
  {
   "cell_type": "markdown",
   "id": "e29fcef3-84f5-43ec-8086-08d16e995f98",
   "metadata": {},
   "source": [
    "2ECE-A | GODOY, JEGO MARCO E. | EXPERIMENT 1"
   ]
  },
  {
   "cell_type": "markdown",
   "id": "24ca56fc-eab5-4657-b673-07521c24a634",
   "metadata": {},
   "source": [
    "ALPHABET SOUP PROBLEM: Create a function that takes a string and returns a string with its letters in alphabetical order."
   ]
  },
  {
   "cell_type": "code",
   "execution_count": 1,
   "id": "fb1a9571-4e9a-46a9-8ad2-b8500c20eefd",
   "metadata": {},
   "outputs": [
    {
     "name": "stdout",
     "output_type": "stream",
     "text": [
      "ehllo\n",
      "acehkr\n"
     ]
    }
   ],
   "source": [
    "def alphabet_soup(word):\n",
    "    return ''.join(sorted(word))\n",
    "print(alphabet_soup(\"hello\"))\n",
    "print(alphabet_soup(\"hacker\"))"
   ]
  },
  {
   "cell_type": "markdown",
   "id": "95c3ce3c-3309-4318-9a67-a19ae13c56fc",
   "metadata": {},
   "source": [
    "EMOTICON PROBLEM: Create a function that changes specific words into emoticons. Given a sentence as a string, replace the words smile, grin, sad and mad with their corresponding emoticon."
   ]
  },
  {
   "cell_type": "code",
   "execution_count": 1,
   "id": "0bc273ab-10a4-4c97-924e-687bc0204e89",
   "metadata": {},
   "outputs": [
    {
     "data": {
      "text/plain": [
       "'You make me smile and grin'"
      ]
     },
     "execution_count": 1,
     "metadata": {},
     "output_type": "execute_result"
    }
   ],
   "source": [
    "s1 = \"You make me smile and grin\"\n",
    "s1"
   ]
  },
  {
   "cell_type": "code",
   "execution_count": 7,
   "id": "aab64a94-a60a-4d63-9d2b-c5104d729c10",
   "metadata": {},
   "outputs": [
    {
     "data": {
      "text/plain": [
       "'You make me :) and :D'"
      ]
     },
     "execution_count": 7,
     "metadata": {},
     "output_type": "execute_result"
    }
   ],
   "source": [
    "s2 = s1.replace(\"smile\",\":)\")\n",
    "s2.replace(\"grin\",\":D\")"
   ]
  },
  {
   "cell_type": "code",
   "execution_count": 10,
   "id": "59daec50-3614-474f-b476-6e559638610e",
   "metadata": {},
   "outputs": [
    {
     "data": {
      "text/plain": [
       "'You make me sad and mad at the same time'"
      ]
     },
     "execution_count": 10,
     "metadata": {},
     "output_type": "execute_result"
    }
   ],
   "source": [
    "s3 = \"You make me sad and mad at the same time\"\n",
    "s3"
   ]
  },
  {
   "cell_type": "code",
   "execution_count": 12,
   "id": "3fa88b8d-5392-4514-9a81-0fa4f9801135",
   "metadata": {},
   "outputs": [
    {
     "data": {
      "text/plain": [
       "'You make me :(( and >:( at the same time'"
      ]
     },
     "execution_count": 12,
     "metadata": {},
     "output_type": "execute_result"
    }
   ],
   "source": [
    "s4 = s3.replace(\"sad\", \":((\")\n",
    "s4.replace(\"mad\", \">:(\")"
   ]
  },
  {
   "cell_type": "markdown",
   "id": "d6087978-b150-4c2c-8dcb-e447ca6c338d",
   "metadata": {},
   "source": [
    "UNPACKING LIST PROBLEM: Unpack the list \"writeyourcodehere\" into three variables, being first, middle, and last, with middle being everything in between the first and last element. Then print all three variables."
   ]
  },
  {
   "cell_type": "code",
   "execution_count": 1,
   "id": "0e262b36-a491-4205-af8e-8e2022d29162",
   "metadata": {},
   "outputs": [
    {
     "data": {
      "text/plain": [
       "[1, 2, 3, 4, 5, 6]"
      ]
     },
     "execution_count": 1,
     "metadata": {},
     "output_type": "execute_result"
    }
   ],
   "source": [
    "writeyourcodehere = [1, 2, 3, 4, 5, 6]\n",
    "writeyourcodehere"
   ]
  },
  {
   "cell_type": "code",
   "execution_count": 4,
   "id": "c3fef965-745a-4b60-b89f-60800682ccb7",
   "metadata": {},
   "outputs": [
    {
     "name": "stdout",
     "output_type": "stream",
     "text": [
      "first: 1\n",
      "middle: [2, 3, 4, 5]\n",
      "last: 6\n"
     ]
    }
   ],
   "source": [
    "writeyourcodehere = [1, 2, 3, 4, 5, 6]   \n",
    "\n",
    "first = writeyourcodehere[0]\n",
    "middle = writeyourcodehere[1:-1]\n",
    "last = writeyourcodehere[-1]\n",
    "\n",
    "print(\"first: \" + str(first))\n",
    "print(\"middle: \" + str(middle))\n",
    "print(\"last: \" + str(last))"
   ]
  },
  {
   "cell_type": "markdown",
   "id": "be04b028-36bd-465c-9496-e6b532cd2871",
   "metadata": {},
   "source": [
    "THANK YOU!"
   ]
  }
 ],
 "metadata": {
  "kernelspec": {
   "display_name": "Python [conda env:base] *",
   "language": "python",
   "name": "conda-base-py"
  },
  "language_info": {
   "codemirror_mode": {
    "name": "ipython",
    "version": 3
   },
   "file_extension": ".py",
   "mimetype": "text/x-python",
   "name": "python",
   "nbconvert_exporter": "python",
   "pygments_lexer": "ipython3",
   "version": "3.13.5"
  }
 },
 "nbformat": 4,
 "nbformat_minor": 5
}
